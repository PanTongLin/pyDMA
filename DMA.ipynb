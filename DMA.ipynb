{
 "cells": [
  {
   "cell_type": "code",
   "execution_count": 103,
   "metadata": {},
   "outputs": [],
   "source": [
    "import math\n",
    "from enum import Enum\n",
    "import logging"
   ]
  },
  {
   "cell_type": "code",
   "execution_count": 130,
   "metadata": {},
   "outputs": [],
   "source": [
    "SRC = 0 # 0:DRAM, 1:TCM\n",
    "ACLK = 480\n",
    "LATENCY = 125 # DDR4-2666:125\n",
    "BUS_WIDTH = 32 # byte unit\n",
    "OSTD = 4\n",
    "BURST = 64 * 4 # byte unit"
   ]
  },
  {
   "cell_type": "code",
   "execution_count": 105,
   "metadata": {},
   "outputs": [],
   "source": [
    "NCLK = 600\n",
    "THROUGHPUT = 6 # byte unit"
   ]
  },
  {
   "cell_type": "code",
   "execution_count": 106,
   "metadata": {},
   "outputs": [],
   "source": [
    "class DMAStatus(Enum):\n",
    "    IDLE = 0\n",
    "    REQ = 1\n",
    "    GRANT = 2\n",
    "    FULL = 3\n",
    "    CONSUME = 4"
   ]
  },
  {
   "cell_type": "code",
   "execution_count": 107,
   "metadata": {},
   "outputs": [],
   "source": [
    "throughput_a = THROUGHPUT * NCLK / ACLK"
   ]
  },
  {
   "cell_type": "code",
   "execution_count": 128,
   "metadata": {},
   "outputs": [],
   "source": [
    "class DMA_FIFO:\n",
    "    \"\"\"DMA FIFO\"\"\"\n",
    "    def __init__(self):\n",
    "        self.status = DMAStatus.IDLE\n",
    "        self.r_len = 0\n",
    "        self.r_cnt = 0\n",
    "        self.g_len = 0\n",
    "        self.g_cnt = 0\n",
    "        self.c_len = 0\n",
    "        self.c_cnt = 0\n",
    "\n",
    "    def set_req(self, length):\n",
    "        self.r_len = LATENCY\n",
    "        self.r_cnt = 0\n",
    "        self.g_len = math.ceil(length / BUS_WIDTH) if SRC==1 else math.ceil(length / BUS_WIDTH) * 2 # somehow DRAM only got 1 cycle data every 2 cycle\n",
    "        self.c_len = length\n",
    "        self.status = DMAStatus.REQ\n",
    "\n",
    "    def req_1t(self):\n",
    "        logging.debug(str(self.r_cnt))\n",
    "        self.r_cnt = self.r_cnt + 1\n",
    "        if self.r_cnt >= self.r_len:\n",
    "            self.set_grant()\n",
    "\n",
    "    def set_grant(self):\n",
    "        self.status = DMAStatus.GRANT\n",
    "        self.g_cnt = 0\n",
    "\n",
    "    def grant_1t(self):\n",
    "        logging.debug(str(self.g_cnt))\n",
    "        self.g_cnt = self.g_cnt + 1\n",
    "        if self.g_cnt >= self.g_len:\n",
    "            self.status = DMAStatus.FULL\n",
    "\n",
    "    def set_consume(self):\n",
    "        self.status = DMAStatus.CONSUME\n",
    "        self.c_cnt = 0\n",
    "\n",
    "    def consume_1t(self):\n",
    "        logging.debug(str(self.c_cnt))\n",
    "        self.c_cnt = self.c_cnt + throughput_a\n",
    "        if self.c_cnt >= self.c_len:\n",
    "            self.status = DMAStatus.IDLE\n",
    "\n",
    "    def update(self, grant_ok):\n",
    "        if self.status is DMAStatus.REQ:\n",
    "            self.req_1t()\n",
    "        elif self.status is DMAStatus.GRANT and grant_ok:\n",
    "            self.grant_1t()\n",
    "        elif self.status is DMAStatus.CONSUME:\n",
    "            self.consume_1t()"
   ]
  },
  {
   "cell_type": "code",
   "execution_count": 117,
   "metadata": {},
   "outputs": [],
   "source": [
    "class CMDGen:\n",
    "    def __init__(self, burst, width, lines):\n",
    "        self.burst = burst\n",
    "        self.width = width\n",
    "        self.lines = lines\n",
    "        self.w_cntd = width\n",
    "        self.l_cnt = 0\n",
    "    def get_cmd(self):\n",
    "        if self.l_cnt == self.lines:\n",
    "            return 0\n",
    "        if self.w_cntd <= self.burst:\n",
    "            cmd = self.w_cntd\n",
    "            self.w_cntd = self.width\n",
    "            self.l_cnt = self.l_cnt + 1\n",
    "            return cmd\n",
    "        else:\n",
    "            self.w_cntd = self.w_cntd - self.burst\n",
    "            return self.burst\n",
    "        "
   ]
  },
  {
   "cell_type": "code",
   "execution_count": 151,
   "metadata": {},
   "outputs": [],
   "source": [
    "width = 96 * 4 # byte unit \n",
    "lines = 64"
   ]
  },
  {
   "cell_type": "code",
   "execution_count": 152,
   "metadata": {},
   "outputs": [
    {
     "name": "stdout",
     "output_type": "stream",
     "text": [
      "total aclk cycle: 5703\n",
      "total nclk cycle: 7129\n",
      "DMA ready %: 59.47746799929862 %\n"
     ]
    }
   ],
   "source": [
    "logging.basicConfig(filename='dma.log', filemode='w', level=logging.DEBUG)\n",
    "\n",
    "DMAs = []\n",
    "for i in range(OSTD):\n",
    "    DMAs.append(DMA_FIFO())\n",
    "\n",
    "cmdgen = CMDGen(burst=BURST, width=width, lines=lines)\n",
    "\n",
    "req_idx = 0\n",
    "grant_idx = 0\n",
    "consume_idx = 0\n",
    "cycle = 0\n",
    "rdy_cycle = 0\n",
    "\n",
    "cmd = cmdgen.get_cmd()\n",
    "while True:\n",
    "    logging.debug('cycle: ' + str(cycle))\n",
    "    cycle = cycle + 1\n",
    "\n",
    "    logging.debug('req_idx: ' + str(req_idx))\n",
    "    logging.debug('grant_idx: ' + str(grant_idx))\n",
    "    logging.debug('consume_idx: ' + str(consume_idx))\n",
    "\n",
    "    if cmd != 0 and DMAs[req_idx].status is DMAStatus.IDLE:\n",
    "        DMAs[req_idx].set_req(cmd)\n",
    "        cmd = cmdgen.get_cmd()\n",
    "        # print(cmd)\n",
    "        if req_idx == OSTD - 1:\n",
    "            req_idx = 0\n",
    "        else:\n",
    "            req_idx = req_idx + 1\n",
    "            \n",
    "    if DMAs[consume_idx].status is DMAStatus.FULL:\n",
    "        DMAs[consume_idx].set_consume()\n",
    "\n",
    "    consume_nxt = False\n",
    "    all_idle = True\n",
    "    dma_rdy = False\n",
    "    for i, dma in enumerate(DMAs):    \n",
    "        logging.debug(str(i) + '---' + dma.status.name)\n",
    "        cur_consume = (dma.status is DMAStatus.CONSUME)\n",
    "        if cur_consume:\n",
    "            dma_rdy = True\n",
    "            \n",
    "        if i == grant_idx:\n",
    "            dma.update(grant_ok=True)\n",
    "        else:\n",
    "            dma.update(grant_ok=False)\n",
    "\n",
    "        if cur_consume and dma.status is DMAStatus.IDLE:\n",
    "            consume_nxt = True\n",
    "            \n",
    "        if dma.status is not DMAStatus.IDLE:\n",
    "            all_idle = False\n",
    "\n",
    "    if DMAs[grant_idx].status is DMAStatus.FULL:\n",
    "        if grant_idx == OSTD - 1:\n",
    "            grant_idx = 0\n",
    "        else:\n",
    "            grant_idx = grant_idx + 1\n",
    "\n",
    "    if consume_nxt:\n",
    "        if consume_idx == OSTD - 1:\n",
    "            consume_idx = 0\n",
    "        else:\n",
    "            consume_idx = consume_idx + 1\n",
    "\n",
    "    if dma_rdy:\n",
    "        rdy_cycle = rdy_cycle + 1\n",
    "\n",
    "    if cmd == 0 and all_idle:\n",
    "        break\n",
    "\n",
    "    logging.debug('====================================================')\n",
    "print('total aclk cycle:', cycle)\n",
    "print('total nclk cycle:', round(cycle*NCLK/ACLK))\n",
    "print('DMA ready %:', rdy_cycle / cycle * 100 , '%')"
   ]
  }
 ],
 "metadata": {
  "kernelspec": {
   "display_name": "Python 3",
   "language": "python",
   "name": "python3"
  },
  "language_info": {
   "codemirror_mode": {
    "name": "ipython",
    "version": 3
   },
   "file_extension": ".py",
   "mimetype": "text/x-python",
   "name": "python",
   "nbconvert_exporter": "python",
   "pygments_lexer": "ipython3",
   "version": "3.6.8"
  },
  "orig_nbformat": 4
 },
 "nbformat": 4,
 "nbformat_minor": 2
}
